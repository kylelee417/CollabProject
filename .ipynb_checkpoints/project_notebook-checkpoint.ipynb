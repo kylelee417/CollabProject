{
 "cells": [
  {
   "cell_type": "markdown",
   "metadata": {},
   "source": [
    "# Introduction\n",
    "\n",
    "Content\n",
    "\n",
    "The dataset contains several parameters which are considered important during the application for Masters Programs. The parameters included are : 1. GRE Scores ( out of 340 ) 2. TOEFL Scores ( out of 120 ) 3. University Rating ( out of 5 ) 4. Statement of Purpose and Letter of Recommendation Strength ( out of 5 ) 5. Undergraduate GPA ( out of 10 ) 6. Research Experience ( either 0 or 1 ) 7. Chance of Admit ( ranging from 0 to 1 )\n",
    "\n",
    "Acknowledgements\n",
    "\n",
    "This dataset is inspired by the UCLA Graduate Dataset. The test scores and GPA are in the older format. The dataset is owned by Mohan S Acharya.\n",
    "\n",
    "Inspiration\n",
    "\n",
    "This dataset was built with the purpose of helping students in shortlisting universities with their profiles. The predicted output gives them a fair idea about their chances for a particular university.\n",
    "\n",
    "Citation\n",
    "\n",
    "Please cite the following if you are interested in using the dataset : Mohan S Acharya, Asfia Armaan, Aneeta S Antony : A Comparison of Regression Models for Prediction of Graduate Admissions, IEEE International Conference on Computational Intelligence in Data Science 2019"
   ]
  },
  {
   "cell_type": "markdown",
   "metadata": {},
   "source": [
    "### Import data and modules"
   ]
  },
  {
   "cell_type": "code",
   "execution_count": 124,
   "metadata": {},
   "outputs": [],
   "source": [
    "import os\n",
    "import pandas as pd\n",
    "import numpy as np\n",
    "import matplotlib.pyplot as plt\n",
    "import seaborn as sns\n",
    "from plotly.offline import download_plotlyjs,init_notebook_mode,plot,iplot\n",
    "import cufflinks as cf\n",
    "%matplotlib inline"
   ]
  },
  {
   "cell_type": "code",
   "execution_count": 125,
   "metadata": {},
   "outputs": [
    {
     "data": {
      "text/html": [
       "        <script type=\"text/javascript\">\n",
       "        window.PlotlyConfig = {MathJaxConfig: 'local'};\n",
       "        if (window.MathJax) {MathJax.Hub.Config({SVG: {font: \"STIX-Web\"}});}\n",
       "        if (typeof require !== 'undefined') {\n",
       "        require.undef(\"plotly\");\n",
       "        requirejs.config({\n",
       "            paths: {\n",
       "                'plotly': ['https://cdn.plot.ly/plotly-latest.min']\n",
       "            }\n",
       "        });\n",
       "        require(['plotly'], function(Plotly) {\n",
       "            window._Plotly = Plotly;\n",
       "        });\n",
       "        }\n",
       "        </script>\n",
       "        "
      ]
     },
     "metadata": {},
     "output_type": "display_data"
    },
    {
     "data": {
      "text/html": [
       "        <script type=\"text/javascript\">\n",
       "        window.PlotlyConfig = {MathJaxConfig: 'local'};\n",
       "        if (window.MathJax) {MathJax.Hub.Config({SVG: {font: \"STIX-Web\"}});}\n",
       "        if (typeof require !== 'undefined') {\n",
       "        require.undef(\"plotly\");\n",
       "        requirejs.config({\n",
       "            paths: {\n",
       "                'plotly': ['https://cdn.plot.ly/plotly-latest.min']\n",
       "            }\n",
       "        });\n",
       "        require(['plotly'], function(Plotly) {\n",
       "            window._Plotly = Plotly;\n",
       "        });\n",
       "        }\n",
       "        </script>\n",
       "        "
      ]
     },
     "metadata": {},
     "output_type": "display_data"
    }
   ],
   "source": [
    "init_notebook_mode(connected=True)\n",
    "cf.go_offline()"
   ]
  },
  {
   "cell_type": "code",
   "execution_count": 126,
   "metadata": {},
   "outputs": [
    {
     "name": "stdout",
     "output_type": "stream",
     "text": [
      "Data is imported!\n"
     ]
    }
   ],
   "source": [
    "path = os.path.join(\"Data\",\"Admission_Predict.csv\")\n",
    "ga_df = pd.read_csv(path)\n",
    "print(\"Data is imported!\")"
   ]
  },
  {
   "cell_type": "markdown",
   "metadata": {},
   "source": [
    "### Data analysis"
   ]
  },
  {
   "cell_type": "code",
   "execution_count": 127,
   "metadata": {},
   "outputs": [
    {
     "data": {
      "text/html": [
       "<div>\n",
       "<style scoped>\n",
       "    .dataframe tbody tr th:only-of-type {\n",
       "        vertical-align: middle;\n",
       "    }\n",
       "\n",
       "    .dataframe tbody tr th {\n",
       "        vertical-align: top;\n",
       "    }\n",
       "\n",
       "    .dataframe thead th {\n",
       "        text-align: right;\n",
       "    }\n",
       "</style>\n",
       "<table border=\"1\" class=\"dataframe\">\n",
       "  <thead>\n",
       "    <tr style=\"text-align: right;\">\n",
       "      <th></th>\n",
       "      <th>Serial No.</th>\n",
       "      <th>GRE Score</th>\n",
       "      <th>TOEFL Score</th>\n",
       "      <th>University Rating</th>\n",
       "      <th>SOP</th>\n",
       "      <th>LOR</th>\n",
       "      <th>CGPA</th>\n",
       "      <th>Research</th>\n",
       "      <th>Chance of Admit</th>\n",
       "    </tr>\n",
       "  </thead>\n",
       "  <tbody>\n",
       "    <tr>\n",
       "      <th>0</th>\n",
       "      <td>1</td>\n",
       "      <td>337</td>\n",
       "      <td>118</td>\n",
       "      <td>4</td>\n",
       "      <td>4.5</td>\n",
       "      <td>4.5</td>\n",
       "      <td>9.65</td>\n",
       "      <td>1</td>\n",
       "      <td>0.92</td>\n",
       "    </tr>\n",
       "    <tr>\n",
       "      <th>1</th>\n",
       "      <td>2</td>\n",
       "      <td>324</td>\n",
       "      <td>107</td>\n",
       "      <td>4</td>\n",
       "      <td>4.0</td>\n",
       "      <td>4.5</td>\n",
       "      <td>8.87</td>\n",
       "      <td>1</td>\n",
       "      <td>0.76</td>\n",
       "    </tr>\n",
       "    <tr>\n",
       "      <th>2</th>\n",
       "      <td>3</td>\n",
       "      <td>316</td>\n",
       "      <td>104</td>\n",
       "      <td>3</td>\n",
       "      <td>3.0</td>\n",
       "      <td>3.5</td>\n",
       "      <td>8.00</td>\n",
       "      <td>1</td>\n",
       "      <td>0.72</td>\n",
       "    </tr>\n",
       "    <tr>\n",
       "      <th>3</th>\n",
       "      <td>4</td>\n",
       "      <td>322</td>\n",
       "      <td>110</td>\n",
       "      <td>3</td>\n",
       "      <td>3.5</td>\n",
       "      <td>2.5</td>\n",
       "      <td>8.67</td>\n",
       "      <td>1</td>\n",
       "      <td>0.80</td>\n",
       "    </tr>\n",
       "    <tr>\n",
       "      <th>4</th>\n",
       "      <td>5</td>\n",
       "      <td>314</td>\n",
       "      <td>103</td>\n",
       "      <td>2</td>\n",
       "      <td>2.0</td>\n",
       "      <td>3.0</td>\n",
       "      <td>8.21</td>\n",
       "      <td>0</td>\n",
       "      <td>0.65</td>\n",
       "    </tr>\n",
       "  </tbody>\n",
       "</table>\n",
       "</div>"
      ],
      "text/plain": [
       "   Serial No.  GRE Score  TOEFL Score  University Rating  SOP  LOR   CGPA  \\\n",
       "0           1        337          118                  4  4.5   4.5  9.65   \n",
       "1           2        324          107                  4  4.0   4.5  8.87   \n",
       "2           3        316          104                  3  3.0   3.5  8.00   \n",
       "3           4        322          110                  3  3.5   2.5  8.67   \n",
       "4           5        314          103                  2  2.0   3.0  8.21   \n",
       "\n",
       "   Research  Chance of Admit   \n",
       "0         1              0.92  \n",
       "1         1              0.76  \n",
       "2         1              0.72  \n",
       "3         1              0.80  \n",
       "4         0              0.65  "
      ]
     },
     "execution_count": 127,
     "metadata": {},
     "output_type": "execute_result"
    }
   ],
   "source": [
    "ga_df.head(5)"
   ]
  },
  {
   "cell_type": "code",
   "execution_count": 128,
   "metadata": {
    "scrolled": false
   },
   "outputs": [
    {
     "name": "stdout",
     "output_type": "stream",
     "text": [
      "<class 'pandas.core.frame.DataFrame'>\n",
      "RangeIndex: 500 entries, 0 to 499\n",
      "Data columns (total 9 columns):\n",
      "Serial No.           500 non-null int64\n",
      "GRE Score            500 non-null int64\n",
      "TOEFL Score          500 non-null int64\n",
      "University Rating    500 non-null int64\n",
      "SOP                  500 non-null float64\n",
      "LOR                  500 non-null float64\n",
      "CGPA                 500 non-null float64\n",
      "Research             500 non-null int64\n",
      "Chance of Admit      500 non-null float64\n",
      "dtypes: float64(4), int64(5)\n",
      "memory usage: 35.2 KB\n",
      "\n",
      "Dataframe shape is: (500, 9)\n"
     ]
    }
   ],
   "source": [
    "ga_df.info()\n",
    "print('\\n'+'Dataframe shape is: {}'.format(ga_df.shape))"
   ]
  },
  {
   "cell_type": "code",
   "execution_count": 129,
   "metadata": {
    "scrolled": true
   },
   "outputs": [
    {
     "data": {
      "text/plain": [
       "Serial No.           False\n",
       "GRE Score            False\n",
       "TOEFL Score          False\n",
       "University Rating    False\n",
       "SOP                  False\n",
       "LOR                  False\n",
       "CGPA                 False\n",
       "Research             False\n",
       "Chance of Admit      False\n",
       "dtype: bool"
      ]
     },
     "execution_count": 129,
     "metadata": {},
     "output_type": "execute_result"
    }
   ],
   "source": [
    "ga_df.isnull().any()"
   ]
  },
  {
   "cell_type": "code",
   "execution_count": 130,
   "metadata": {},
   "outputs": [],
   "source": [
    "ga_df.drop('Serial No.',axis=1,inplace=True)"
   ]
  },
  {
   "cell_type": "markdown",
   "metadata": {},
   "source": [
    "#### White space exists at the end of some column names --> stripping"
   ]
  },
  {
   "cell_type": "code",
   "execution_count": 131,
   "metadata": {},
   "outputs": [
    {
     "data": {
      "text/plain": [
       "Index(['GRE Score', 'TOEFL Score', 'University Rating', 'SOP', 'LOR ', 'CGPA',\n",
       "       'Research', 'Chance of Admit '],\n",
       "      dtype='object')"
      ]
     },
     "execution_count": 131,
     "metadata": {},
     "output_type": "execute_result"
    }
   ],
   "source": [
    "ga_df.columns"
   ]
  },
  {
   "cell_type": "code",
   "execution_count": 133,
   "metadata": {},
   "outputs": [],
   "source": [
    "ga_df.columns = list(map(lambda col: col.strip(),ga_df.columns))"
   ]
  },
  {
   "cell_type": "markdown",
   "metadata": {},
   "source": [
    "### EDA"
   ]
  },
  {
   "cell_type": "code",
   "execution_count": 134,
   "metadata": {
    "scrolled": false
   },
   "outputs": [
    {
     "data": {
      "application/vnd.plotly.v1+json": {
       "config": {
        "linkText": "Export to plot.ly",
        "plotlyServerURL": "https://plot.ly",
        "responsive": true,
        "showLink": true
       },
       "data": [
        {
         "line": {
          "color": "rgba(255, 153, 51, 1.0)",
          "dash": "solid",
          "shape": "linear",
          "width": 1.3
         },
         "marker": {
          "size": 10,
          "symbol": "circle"
         },
         "mode": "markers",
         "name": "Chance of Admit",
         "text": "",
         "type": "scatter",
         "uid": "e40db360-21fb-49f9-8606-ef1969b5f5da",
         "x": [
          337,
          324,
          316,
          322,
          314,
          330,
          321,
          308,
          302,
          323,
          325,
          327,
          328,
          307,
          311,
          314,
          317,
          319,
          318,
          303,
          312,
          325,
          328,
          334,
          336,
          340,
          322,
          298,
          295,
          310,
          300,
          327,
          338,
          340,
          331,
          320,
          299,
          300,
          304,
          307,
          308,
          316,
          313,
          332,
          326,
          322,
          329,
          339,
          321,
          327,
          313,
          312,
          334,
          324,
          322,
          320,
          316,
          298,
          300,
          311,
          309,
          307,
          304,
          315,
          325,
          325,
          327,
          316,
          318,
          328,
          332,
          336,
          321,
          314,
          314,
          329,
          327,
          301,
          296,
          294,
          312,
          340,
          320,
          322,
          340,
          319,
          315,
          317,
          314,
          316,
          318,
          299,
          298,
          301,
          303,
          304,
          306,
          331,
          332,
          323,
          322,
          312,
          314,
          317,
          326,
          316,
          329,
          338,
          331,
          304,
          305,
          321,
          301,
          320,
          311,
          310,
          299,
          290,
          296,
          327,
          335,
          334,
          310,
          308,
          301,
          300,
          323,
          319,
          326,
          333,
          339,
          303,
          309,
          323,
          333,
          314,
          312,
          316,
          326,
          318,
          329,
          332,
          331,
          340,
          325,
          320,
          315,
          326,
          339,
          311,
          334,
          332,
          321,
          324,
          326,
          312,
          315,
          309,
          306,
          297,
          315,
          298,
          318,
          317,
          329,
          322,
          302,
          313,
          293,
          311,
          312,
          334,
          322,
          323,
          321,
          320,
          329,
          319,
          309,
          307,
          300,
          305,
          299,
          314,
          316,
          327,
          317,
          335,
          331,
          324,
          324,
          323,
          322,
          336,
          316,
          307,
          306,
          310,
          311,
          313,
          317,
          315,
          340,
          334,
          298,
          295,
          315,
          310,
          305,
          301,
          325,
          328,
          338,
          333,
          331,
          330,
          322,
          321,
          324,
          312,
          313,
          316,
          324,
          308,
          305,
          296,
          306,
          312,
          318,
          324,
          313,
          319,
          312,
          304,
          330,
          326,
          325,
          329,
          310,
          299,
          296,
          317,
          324,
          325,
          314,
          328,
          316,
          311,
          324,
          321,
          320,
          316,
          318,
          335,
          321,
          307,
          309,
          324,
          326,
          331,
          327,
          312,
          308,
          324,
          325,
          313,
          312,
          314,
          327,
          308,
          306,
          299,
          294,
          312,
          315,
          322,
          329,
          320,
          308,
          304,
          311,
          317,
          312,
          321,
          340,
          331,
          336,
          324,
          314,
          313,
          307,
          300,
          302,
          312,
          316,
          317,
          310,
          320,
          330,
          305,
          309,
          319,
          322,
          323,
          313,
          321,
          323,
          325,
          312,
          308,
          320,
          328,
          311,
          301,
          305,
          308,
          298,
          300,
          324,
          327,
          317,
          323,
          314,
          305,
          315,
          326,
          299,
          295,
          324,
          297,
          327,
          311,
          308,
          319,
          312,
          325,
          319,
          332,
          323,
          324,
          312,
          326,
          308,
          305,
          295,
          316,
          304,
          299,
          302,
          313,
          318,
          325,
          303,
          300,
          297,
          317,
          327,
          301,
          314,
          321,
          322,
          334,
          338,
          306,
          313,
          330,
          320,
          311,
          298,
          301,
          310,
          324,
          336,
          321,
          315,
          304,
          297,
          290,
          303,
          311,
          322,
          319,
          324,
          300,
          340,
          335,
          302,
          307,
          296,
          320,
          314,
          318,
          326,
          317,
          329,
          324,
          325,
          330,
          312,
          333,
          304,
          315,
          324,
          330,
          311,
          302,
          322,
          298,
          297,
          300,
          301,
          313,
          314,
          317,
          321,
          327,
          315,
          316,
          309,
          308,
          299,
          321,
          322,
          334,
          325,
          323,
          312,
          310,
          316,
          340,
          311,
          320,
          324,
          316,
          306,
          309,
          310,
          317,
          318,
          312,
          305,
          332,
          331,
          321,
          324,
          328,
          327,
          320,
          312,
          315,
          320,
          324,
          328,
          319,
          310,
          305,
          299,
          295,
          312,
          329,
          319,
          301,
          307,
          304,
          298,
          305,
          314,
          318,
          323,
          326,
          320,
          311,
          327,
          316,
          308,
          300,
          304,
          309,
          318,
          325,
          321,
          323,
          328,
          304,
          317,
          311,
          319,
          327,
          322,
          302,
          307,
          297,
          298,
          300,
          301,
          332,
          337,
          330,
          312,
          327
         ],
         "y": [
          0.92,
          0.76,
          0.72,
          0.8,
          0.65,
          0.9,
          0.75,
          0.68,
          0.5,
          0.45,
          0.52,
          0.84,
          0.78,
          0.62,
          0.61,
          0.54,
          0.66,
          0.65,
          0.63,
          0.62,
          0.64,
          0.7,
          0.94,
          0.95,
          0.97,
          0.94,
          0.76,
          0.44,
          0.46,
          0.54,
          0.65,
          0.74,
          0.91,
          0.9,
          0.94,
          0.88,
          0.64,
          0.58,
          0.52,
          0.48,
          0.46,
          0.49,
          0.53,
          0.87,
          0.91,
          0.88,
          0.86,
          0.89,
          0.82,
          0.78,
          0.76,
          0.56,
          0.78,
          0.72,
          0.7,
          0.64,
          0.64,
          0.46,
          0.36,
          0.42,
          0.48,
          0.47,
          0.54,
          0.56,
          0.52,
          0.55,
          0.61,
          0.57,
          0.68,
          0.78,
          0.94,
          0.96,
          0.93,
          0.84,
          0.74,
          0.72,
          0.74,
          0.64,
          0.44,
          0.46,
          0.5,
          0.96,
          0.92,
          0.92,
          0.94,
          0.76,
          0.72,
          0.66,
          0.64,
          0.74,
          0.64,
          0.38,
          0.34,
          0.44,
          0.36,
          0.42,
          0.48,
          0.86,
          0.9,
          0.79,
          0.71,
          0.64,
          0.62,
          0.57,
          0.74,
          0.69,
          0.87,
          0.91,
          0.93,
          0.68,
          0.61,
          0.69,
          0.62,
          0.72,
          0.59,
          0.66,
          0.56,
          0.45,
          0.47,
          0.71,
          0.94,
          0.94,
          0.57,
          0.61,
          0.57,
          0.64,
          0.85,
          0.78,
          0.84,
          0.92,
          0.96,
          0.77,
          0.71,
          0.79,
          0.89,
          0.82,
          0.76,
          0.71,
          0.8,
          0.78,
          0.84,
          0.9,
          0.92,
          0.97,
          0.8,
          0.81,
          0.75,
          0.83,
          0.96,
          0.79,
          0.93,
          0.94,
          0.86,
          0.79,
          0.8,
          0.77,
          0.7,
          0.65,
          0.61,
          0.52,
          0.57,
          0.53,
          0.67,
          0.68,
          0.81,
          0.78,
          0.65,
          0.64,
          0.64,
          0.65,
          0.68,
          0.89,
          0.86,
          0.89,
          0.87,
          0.85,
          0.9,
          0.82,
          0.72,
          0.73,
          0.71,
          0.71,
          0.68,
          0.75,
          0.72,
          0.89,
          0.84,
          0.93,
          0.93,
          0.88,
          0.9,
          0.87,
          0.86,
          0.94,
          0.77,
          0.78,
          0.73,
          0.73,
          0.7,
          0.72,
          0.73,
          0.72,
          0.97,
          0.97,
          0.69,
          0.57,
          0.63,
          0.66,
          0.64,
          0.68,
          0.79,
          0.82,
          0.95,
          0.96,
          0.94,
          0.93,
          0.91,
          0.85,
          0.84,
          0.74,
          0.76,
          0.75,
          0.76,
          0.71,
          0.67,
          0.61,
          0.63,
          0.64,
          0.71,
          0.82,
          0.73,
          0.74,
          0.69,
          0.64,
          0.91,
          0.88,
          0.85,
          0.86,
          0.7,
          0.59,
          0.6,
          0.65,
          0.7,
          0.76,
          0.63,
          0.81,
          0.72,
          0.71,
          0.8,
          0.77,
          0.74,
          0.7,
          0.71,
          0.93,
          0.85,
          0.79,
          0.76,
          0.78,
          0.77,
          0.9,
          0.87,
          0.71,
          0.7,
          0.7,
          0.75,
          0.71,
          0.72,
          0.73,
          0.83,
          0.77,
          0.72,
          0.54,
          0.49,
          0.52,
          0.58,
          0.78,
          0.89,
          0.7,
          0.66,
          0.67,
          0.68,
          0.8,
          0.81,
          0.8,
          0.94,
          0.93,
          0.92,
          0.89,
          0.82,
          0.79,
          0.58,
          0.56,
          0.56,
          0.64,
          0.61,
          0.68,
          0.76,
          0.86,
          0.9,
          0.71,
          0.62,
          0.66,
          0.65,
          0.73,
          0.62,
          0.74,
          0.79,
          0.8,
          0.69,
          0.7,
          0.76,
          0.84,
          0.78,
          0.67,
          0.66,
          0.65,
          0.54,
          0.58,
          0.79,
          0.8,
          0.75,
          0.73,
          0.72,
          0.62,
          0.67,
          0.81,
          0.63,
          0.69,
          0.8,
          0.43,
          0.8,
          0.73,
          0.75,
          0.71,
          0.73,
          0.83,
          0.72,
          0.94,
          0.81,
          0.81,
          0.75,
          0.79,
          0.58,
          0.59,
          0.47,
          0.49,
          0.47,
          0.42,
          0.57,
          0.62,
          0.74,
          0.73,
          0.64,
          0.63,
          0.59,
          0.73,
          0.79,
          0.68,
          0.7,
          0.81,
          0.85,
          0.93,
          0.91,
          0.69,
          0.77,
          0.86,
          0.74,
          0.57,
          0.51,
          0.67,
          0.72,
          0.89,
          0.95,
          0.79,
          0.39,
          0.38,
          0.34,
          0.47,
          0.56,
          0.71,
          0.78,
          0.73,
          0.82,
          0.62,
          0.96,
          0.96,
          0.46,
          0.53,
          0.49,
          0.76,
          0.64,
          0.71,
          0.84,
          0.77,
          0.89,
          0.82,
          0.84,
          0.91,
          0.67,
          0.95,
          0.63,
          0.66,
          0.78,
          0.91,
          0.62,
          0.52,
          0.61,
          0.58,
          0.57,
          0.61,
          0.54,
          0.56,
          0.59,
          0.49,
          0.72,
          0.76,
          0.65,
          0.52,
          0.6,
          0.58,
          0.42,
          0.77,
          0.73,
          0.94,
          0.91,
          0.92,
          0.71,
          0.71,
          0.69,
          0.95,
          0.74,
          0.73,
          0.86,
          0.71,
          0.64,
          0.55,
          0.58,
          0.61,
          0.67,
          0.66,
          0.53,
          0.79,
          0.92,
          0.87,
          0.92,
          0.91,
          0.93,
          0.84,
          0.8,
          0.79,
          0.82,
          0.89,
          0.93,
          0.73,
          0.71,
          0.59,
          0.51,
          0.37,
          0.69,
          0.89,
          0.77,
          0.68,
          0.62,
          0.57,
          0.45,
          0.54,
          0.71,
          0.78,
          0.81,
          0.86,
          0.87,
          0.64,
          0.9,
          0.67,
          0.67,
          0.59,
          0.62,
          0.65,
          0.71,
          0.79,
          0.8,
          0.78,
          0.83,
          0.71,
          0.73,
          0.7,
          0.68,
          0.79,
          0.76,
          0.65,
          0.67,
          0.54,
          0.53,
          0.62,
          0.68,
          0.87,
          0.96,
          0.93,
          0.73,
          0.84
         ]
        }
       ],
       "layout": {
        "legend": {
         "bgcolor": "#F5F6F9",
         "font": {
          "color": "#4D5663"
         }
        },
        "paper_bgcolor": "#F5F6F9",
        "plot_bgcolor": "#F5F6F9",
        "title": {
         "font": {
          "color": "#4D5663"
         }
        },
        "xaxis": {
         "gridcolor": "#E1E5ED",
         "showgrid": true,
         "tickfont": {
          "color": "#4D5663"
         },
         "title": {
          "font": {
           "color": "#4D5663"
          },
          "text": "GRE Score"
         },
         "zerolinecolor": "#E1E5ED"
        },
        "yaxis": {
         "gridcolor": "#E1E5ED",
         "showgrid": true,
         "tickfont": {
          "color": "#4D5663"
         },
         "title": {
          "font": {
           "color": "#4D5663"
          },
          "text": ""
         },
         "zerolinecolor": "#E1E5ED"
        }
       }
      },
      "text/html": [
       "<div>\n",
       "        \n",
       "        \n",
       "            <div id=\"f4f9e2de-1348-4f0b-ab0c-b38efc07b5b3\" class=\"plotly-graph-div\" style=\"height:525px; width:100%;\"></div>\n",
       "            <script type=\"text/javascript\">\n",
       "                require([\"plotly\"], function(Plotly) {\n",
       "                    window.PLOTLYENV=window.PLOTLYENV || {};\n",
       "                    window.PLOTLYENV.BASE_URL='https://plot.ly';\n",
       "                    \n",
       "                if (document.getElementById(\"f4f9e2de-1348-4f0b-ab0c-b38efc07b5b3\")) {\n",
       "                    Plotly.newPlot(\n",
       "                        'f4f9e2de-1348-4f0b-ab0c-b38efc07b5b3',\n",
       "                        [{\"line\": {\"color\": \"rgba(255, 153, 51, 1.0)\", \"dash\": \"solid\", \"shape\": \"linear\", \"width\": 1.3}, \"marker\": {\"size\": 10, \"symbol\": \"circle\"}, \"mode\": \"markers\", \"name\": \"Chance of Admit\", \"text\": \"\", \"type\": \"scatter\", \"uid\": \"53274fc1-2db6-4807-bcb3-4c74305d552c\", \"x\": [337, 324, 316, 322, 314, 330, 321, 308, 302, 323, 325, 327, 328, 307, 311, 314, 317, 319, 318, 303, 312, 325, 328, 334, 336, 340, 322, 298, 295, 310, 300, 327, 338, 340, 331, 320, 299, 300, 304, 307, 308, 316, 313, 332, 326, 322, 329, 339, 321, 327, 313, 312, 334, 324, 322, 320, 316, 298, 300, 311, 309, 307, 304, 315, 325, 325, 327, 316, 318, 328, 332, 336, 321, 314, 314, 329, 327, 301, 296, 294, 312, 340, 320, 322, 340, 319, 315, 317, 314, 316, 318, 299, 298, 301, 303, 304, 306, 331, 332, 323, 322, 312, 314, 317, 326, 316, 329, 338, 331, 304, 305, 321, 301, 320, 311, 310, 299, 290, 296, 327, 335, 334, 310, 308, 301, 300, 323, 319, 326, 333, 339, 303, 309, 323, 333, 314, 312, 316, 326, 318, 329, 332, 331, 340, 325, 320, 315, 326, 339, 311, 334, 332, 321, 324, 326, 312, 315, 309, 306, 297, 315, 298, 318, 317, 329, 322, 302, 313, 293, 311, 312, 334, 322, 323, 321, 320, 329, 319, 309, 307, 300, 305, 299, 314, 316, 327, 317, 335, 331, 324, 324, 323, 322, 336, 316, 307, 306, 310, 311, 313, 317, 315, 340, 334, 298, 295, 315, 310, 305, 301, 325, 328, 338, 333, 331, 330, 322, 321, 324, 312, 313, 316, 324, 308, 305, 296, 306, 312, 318, 324, 313, 319, 312, 304, 330, 326, 325, 329, 310, 299, 296, 317, 324, 325, 314, 328, 316, 311, 324, 321, 320, 316, 318, 335, 321, 307, 309, 324, 326, 331, 327, 312, 308, 324, 325, 313, 312, 314, 327, 308, 306, 299, 294, 312, 315, 322, 329, 320, 308, 304, 311, 317, 312, 321, 340, 331, 336, 324, 314, 313, 307, 300, 302, 312, 316, 317, 310, 320, 330, 305, 309, 319, 322, 323, 313, 321, 323, 325, 312, 308, 320, 328, 311, 301, 305, 308, 298, 300, 324, 327, 317, 323, 314, 305, 315, 326, 299, 295, 324, 297, 327, 311, 308, 319, 312, 325, 319, 332, 323, 324, 312, 326, 308, 305, 295, 316, 304, 299, 302, 313, 318, 325, 303, 300, 297, 317, 327, 301, 314, 321, 322, 334, 338, 306, 313, 330, 320, 311, 298, 301, 310, 324, 336, 321, 315, 304, 297, 290, 303, 311, 322, 319, 324, 300, 340, 335, 302, 307, 296, 320, 314, 318, 326, 317, 329, 324, 325, 330, 312, 333, 304, 315, 324, 330, 311, 302, 322, 298, 297, 300, 301, 313, 314, 317, 321, 327, 315, 316, 309, 308, 299, 321, 322, 334, 325, 323, 312, 310, 316, 340, 311, 320, 324, 316, 306, 309, 310, 317, 318, 312, 305, 332, 331, 321, 324, 328, 327, 320, 312, 315, 320, 324, 328, 319, 310, 305, 299, 295, 312, 329, 319, 301, 307, 304, 298, 305, 314, 318, 323, 326, 320, 311, 327, 316, 308, 300, 304, 309, 318, 325, 321, 323, 328, 304, 317, 311, 319, 327, 322, 302, 307, 297, 298, 300, 301, 332, 337, 330, 312, 327], \"y\": [0.92, 0.76, 0.72, 0.8, 0.65, 0.9, 0.75, 0.68, 0.5, 0.45, 0.52, 0.84, 0.78, 0.62, 0.61, 0.54, 0.66, 0.65, 0.63, 0.62, 0.64, 0.7, 0.94, 0.95, 0.97, 0.94, 0.76, 0.44, 0.46, 0.54, 0.65, 0.74, 0.91, 0.9, 0.94, 0.88, 0.64, 0.58, 0.52, 0.48, 0.46, 0.49, 0.53, 0.87, 0.91, 0.88, 0.86, 0.89, 0.82, 0.78, 0.76, 0.56, 0.78, 0.72, 0.7, 0.64, 0.64, 0.46, 0.36, 0.42, 0.48, 0.47, 0.54, 0.56, 0.52, 0.55, 0.61, 0.57, 0.68, 0.78, 0.94, 0.96, 0.93, 0.84, 0.74, 0.72, 0.74, 0.64, 0.44, 0.46, 0.5, 0.96, 0.92, 0.92, 0.94, 0.76, 0.72, 0.66, 0.64, 0.74, 0.64, 0.38, 0.34, 0.44, 0.36, 0.42, 0.48, 0.86, 0.9, 0.79, 0.71, 0.64, 0.62, 0.57, 0.74, 0.69, 0.87, 0.91, 0.93, 0.68, 0.61, 0.69, 0.62, 0.72, 0.59, 0.66, 0.56, 0.45, 0.47, 0.71, 0.94, 0.94, 0.57, 0.61, 0.57, 0.64, 0.85, 0.78, 0.84, 0.92, 0.96, 0.77, 0.71, 0.79, 0.89, 0.82, 0.76, 0.71, 0.8, 0.78, 0.84, 0.9, 0.92, 0.97, 0.8, 0.81, 0.75, 0.83, 0.96, 0.79, 0.93, 0.94, 0.86, 0.79, 0.8, 0.77, 0.7, 0.65, 0.61, 0.52, 0.57, 0.53, 0.67, 0.68, 0.81, 0.78, 0.65, 0.64, 0.64, 0.65, 0.68, 0.89, 0.86, 0.89, 0.87, 0.85, 0.9, 0.82, 0.72, 0.73, 0.71, 0.71, 0.68, 0.75, 0.72, 0.89, 0.84, 0.93, 0.93, 0.88, 0.9, 0.87, 0.86, 0.94, 0.77, 0.78, 0.73, 0.73, 0.7, 0.72, 0.73, 0.72, 0.97, 0.97, 0.69, 0.57, 0.63, 0.66, 0.64, 0.68, 0.79, 0.82, 0.95, 0.96, 0.94, 0.93, 0.91, 0.85, 0.84, 0.74, 0.76, 0.75, 0.76, 0.71, 0.67, 0.61, 0.63, 0.64, 0.71, 0.82, 0.73, 0.74, 0.69, 0.64, 0.91, 0.88, 0.85, 0.86, 0.7, 0.59, 0.6, 0.65, 0.7, 0.76, 0.63, 0.81, 0.72, 0.71, 0.8, 0.77, 0.74, 0.7, 0.71, 0.93, 0.85, 0.79, 0.76, 0.78, 0.77, 0.9, 0.87, 0.71, 0.7, 0.7, 0.75, 0.71, 0.72, 0.73, 0.83, 0.77, 0.72, 0.54, 0.49, 0.52, 0.58, 0.78, 0.89, 0.7, 0.66, 0.67, 0.68, 0.8, 0.81, 0.8, 0.94, 0.93, 0.92, 0.89, 0.82, 0.79, 0.58, 0.56, 0.56, 0.64, 0.61, 0.68, 0.76, 0.86, 0.9, 0.71, 0.62, 0.66, 0.65, 0.73, 0.62, 0.74, 0.79, 0.8, 0.69, 0.7, 0.76, 0.84, 0.78, 0.67, 0.66, 0.65, 0.54, 0.58, 0.79, 0.8, 0.75, 0.73, 0.72, 0.62, 0.67, 0.81, 0.63, 0.69, 0.8, 0.43, 0.8, 0.73, 0.75, 0.71, 0.73, 0.83, 0.72, 0.94, 0.81, 0.81, 0.75, 0.79, 0.58, 0.59, 0.47, 0.49, 0.47, 0.42, 0.57, 0.62, 0.74, 0.73, 0.64, 0.63, 0.59, 0.73, 0.79, 0.68, 0.7, 0.81, 0.85, 0.93, 0.91, 0.69, 0.77, 0.86, 0.74, 0.57, 0.51, 0.67, 0.72, 0.89, 0.95, 0.79, 0.39, 0.38, 0.34, 0.47, 0.56, 0.71, 0.78, 0.73, 0.82, 0.62, 0.96, 0.96, 0.46, 0.53, 0.49, 0.76, 0.64, 0.71, 0.84, 0.77, 0.89, 0.82, 0.84, 0.91, 0.67, 0.95, 0.63, 0.66, 0.78, 0.91, 0.62, 0.52, 0.61, 0.58, 0.57, 0.61, 0.54, 0.56, 0.59, 0.49, 0.72, 0.76, 0.65, 0.52, 0.6, 0.58, 0.42, 0.77, 0.73, 0.94, 0.91, 0.92, 0.71, 0.71, 0.69, 0.95, 0.74, 0.73, 0.86, 0.71, 0.64, 0.55, 0.58, 0.61, 0.67, 0.66, 0.53, 0.79, 0.92, 0.87, 0.92, 0.91, 0.93, 0.84, 0.8, 0.79, 0.82, 0.89, 0.93, 0.73, 0.71, 0.59, 0.51, 0.37, 0.69, 0.89, 0.77, 0.68, 0.62, 0.57, 0.45, 0.54, 0.71, 0.78, 0.81, 0.86, 0.87, 0.64, 0.9, 0.67, 0.67, 0.59, 0.62, 0.65, 0.71, 0.79, 0.8, 0.78, 0.83, 0.71, 0.73, 0.7, 0.68, 0.79, 0.76, 0.65, 0.67, 0.54, 0.53, 0.62, 0.68, 0.87, 0.96, 0.93, 0.73, 0.84]}],\n",
       "                        {\"legend\": {\"bgcolor\": \"#F5F6F9\", \"font\": {\"color\": \"#4D5663\"}}, \"paper_bgcolor\": \"#F5F6F9\", \"plot_bgcolor\": \"#F5F6F9\", \"title\": {\"font\": {\"color\": \"#4D5663\"}}, \"xaxis\": {\"gridcolor\": \"#E1E5ED\", \"showgrid\": true, \"tickfont\": {\"color\": \"#4D5663\"}, \"title\": {\"font\": {\"color\": \"#4D5663\"}, \"text\": \"GRE Score\"}, \"zerolinecolor\": \"#E1E5ED\"}, \"yaxis\": {\"gridcolor\": \"#E1E5ED\", \"showgrid\": true, \"tickfont\": {\"color\": \"#4D5663\"}, \"title\": {\"font\": {\"color\": \"#4D5663\"}, \"text\": \"\"}, \"zerolinecolor\": \"#E1E5ED\"}},\n",
       "                        {\"showLink\": true, \"plotlyServerURL\": \"https://plot.ly\", \"linkText\": \"Export to plot.ly\", \"responsive\": true}\n",
       "                    ).then(function(){\n",
       "                            \n",
       "var gd = document.getElementById('f4f9e2de-1348-4f0b-ab0c-b38efc07b5b3');\n",
       "var x = new MutationObserver(function (mutations, observer) {{\n",
       "        var display = window.getComputedStyle(gd).display;\n",
       "        if (!display || display === 'none') {{\n",
       "            console.log([gd, 'removed!']);\n",
       "            Plotly.purge(gd);\n",
       "            observer.disconnect();\n",
       "        }}\n",
       "}});\n",
       "\n",
       "// Listen for the removal of the full notebook cells\n",
       "var notebookContainer = gd.closest('#notebook-container');\n",
       "if (notebookContainer) {{\n",
       "    x.observe(notebookContainer, {childList: true});\n",
       "}}\n",
       "\n",
       "// Listen for the clearing of the current output cell\n",
       "var outputEl = gd.closest('.output');\n",
       "if (outputEl) {{\n",
       "    x.observe(outputEl, {childList: true});\n",
       "}}\n",
       "\n",
       "                        })\n",
       "                };\n",
       "                });\n",
       "            </script>\n",
       "        </div>"
      ]
     },
     "metadata": {},
     "output_type": "display_data"
    }
   ],
   "source": [
    "ga_df.iplot(kind='scatter',x='GRE Score',y='Chance of Admit',mode='markers',size=10,xTitle='GRE Score',)"
   ]
  },
  {
   "cell_type": "code",
   "execution_count": 221,
   "metadata": {
    "scrolled": true
   },
   "outputs": [],
   "source": [
    "columns = ['GRE Score','TOEFL Score','SOP','LOR','CGPA','Research']"
   ]
  },
  {
   "cell_type": "code",
   "execution_count": 229,
   "metadata": {},
   "outputs": [],
   "source": [
    "likely = ga_df[ga_df['Chance of Admit']>=0.7].groupby('University Rating').agg('mean')[columns]\n",
    "not_likely = ga_df[ga_df['Chance of Admit']<0.7].groupby('University Rating').agg('mean')[columns]"
   ]
  },
  {
   "cell_type": "code",
   "execution_count": 237,
   "metadata": {},
   "outputs": [],
   "source": [
    "GRE_compare = pd.concat([likely['GRE Score'],not_likely['GRE Score']],axis=1)\n",
    "GRE_compare.columns=['likely','not_likely']\n",
    "TOEFL_compare = pd.concat([likely['TOEFL Score'],not_likely['TOEFL Score']],axis=1)\n",
    "TOEFL_compare.columns=['likely','not_likely']"
   ]
  },
  {
   "cell_type": "code",
   "execution_count": 231,
   "metadata": {
    "scrolled": false
   },
   "outputs": [
    {
     "data": {
      "application/vnd.plotly.v1+json": {
       "config": {
        "linkText": "Export to plot.ly",
        "plotlyServerURL": "https://plot.ly",
        "responsive": true,
        "showLink": true
       },
       "data": [
        {
         "marker": {
          "color": "rgba(255, 153, 51, 0.6)",
          "line": {
           "color": "rgba(255, 153, 51, 1.0)",
           "width": 1
          }
         },
         "name": "likely",
         "orientation": "v",
         "text": "",
         "type": "bar",
         "uid": "c89a697b-3ac6-437a-864d-b48f633bdae2",
         "x": [
          1,
          2,
          3,
          4,
          5
         ],
         "y": [
          320.3333333333333,
          315.65714285714284,
          318.5049504950495,
          325.84444444444443,
          328.5492957746479
         ]
        },
        {
         "marker": {
          "color": "rgba(55, 128, 191, 0.6)",
          "line": {
           "color": "rgba(55, 128, 191, 1.0)",
           "width": 1
          }
         },
         "name": "not_likely",
         "orientation": "v",
         "text": "",
         "type": "bar",
         "uid": "bc54860a-0ca1-4b7a-bfc5-accdcc8cd646",
         "x": [
          1,
          2,
          3,
          4,
          5
         ],
         "y": [
          303.4193548387097,
          306.6263736263736,
          309.27868852459017,
          308.06666666666666,
          304.5
         ]
        }
       ],
       "layout": {
        "legend": {
         "bgcolor": "#F5F6F9",
         "font": {
          "color": "#4D5663"
         }
        },
        "paper_bgcolor": "#F5F6F9",
        "plot_bgcolor": "#F5F6F9",
        "title": {
         "font": {
          "color": "#4D5663"
         }
        },
        "xaxis": {
         "gridcolor": "#E1E5ED",
         "showgrid": true,
         "tickfont": {
          "color": "#4D5663"
         },
         "title": {
          "font": {
           "color": "#4D5663"
          },
          "text": ""
         },
         "zerolinecolor": "#E1E5ED"
        },
        "yaxis": {
         "gridcolor": "#E1E5ED",
         "showgrid": true,
         "tickfont": {
          "color": "#4D5663"
         },
         "title": {
          "font": {
           "color": "#4D5663"
          },
          "text": ""
         },
         "zerolinecolor": "#E1E5ED"
        }
       }
      },
      "text/html": [
       "<div>\n",
       "        \n",
       "        \n",
       "            <div id=\"ec92bbc9-79fa-47dd-81b6-ab8e91dad2e2\" class=\"plotly-graph-div\" style=\"height:525px; width:100%;\"></div>\n",
       "            <script type=\"text/javascript\">\n",
       "                require([\"plotly\"], function(Plotly) {\n",
       "                    window.PLOTLYENV=window.PLOTLYENV || {};\n",
       "                    window.PLOTLYENV.BASE_URL='https://plot.ly';\n",
       "                    \n",
       "                if (document.getElementById(\"ec92bbc9-79fa-47dd-81b6-ab8e91dad2e2\")) {\n",
       "                    Plotly.newPlot(\n",
       "                        'ec92bbc9-79fa-47dd-81b6-ab8e91dad2e2',\n",
       "                        [{\"marker\": {\"color\": \"rgba(255, 153, 51, 0.6)\", \"line\": {\"color\": \"rgba(255, 153, 51, 1.0)\", \"width\": 1}}, \"name\": \"likely\", \"orientation\": \"v\", \"text\": \"\", \"type\": \"bar\", \"uid\": \"17cbb0ae-d6dc-479c-829c-8b1546e00413\", \"x\": [1, 2, 3, 4, 5], \"y\": [320.3333333333333, 315.65714285714284, 318.5049504950495, 325.84444444444443, 328.5492957746479]}, {\"marker\": {\"color\": \"rgba(55, 128, 191, 0.6)\", \"line\": {\"color\": \"rgba(55, 128, 191, 1.0)\", \"width\": 1}}, \"name\": \"not_likely\", \"orientation\": \"v\", \"text\": \"\", \"type\": \"bar\", \"uid\": \"c0bb9d6d-0f5d-46de-9a0b-d6b106ac9d39\", \"x\": [1, 2, 3, 4, 5], \"y\": [303.4193548387097, 306.6263736263736, 309.27868852459017, 308.06666666666666, 304.5]}],\n",
       "                        {\"legend\": {\"bgcolor\": \"#F5F6F9\", \"font\": {\"color\": \"#4D5663\"}}, \"paper_bgcolor\": \"#F5F6F9\", \"plot_bgcolor\": \"#F5F6F9\", \"title\": {\"font\": {\"color\": \"#4D5663\"}}, \"xaxis\": {\"gridcolor\": \"#E1E5ED\", \"showgrid\": true, \"tickfont\": {\"color\": \"#4D5663\"}, \"title\": {\"font\": {\"color\": \"#4D5663\"}, \"text\": \"\"}, \"zerolinecolor\": \"#E1E5ED\"}, \"yaxis\": {\"gridcolor\": \"#E1E5ED\", \"showgrid\": true, \"tickfont\": {\"color\": \"#4D5663\"}, \"title\": {\"font\": {\"color\": \"#4D5663\"}, \"text\": \"\"}, \"zerolinecolor\": \"#E1E5ED\"}},\n",
       "                        {\"showLink\": true, \"plotlyServerURL\": \"https://plot.ly\", \"linkText\": \"Export to plot.ly\", \"responsive\": true}\n",
       "                    ).then(function(){\n",
       "                            \n",
       "var gd = document.getElementById('ec92bbc9-79fa-47dd-81b6-ab8e91dad2e2');\n",
       "var x = new MutationObserver(function (mutations, observer) {{\n",
       "        var display = window.getComputedStyle(gd).display;\n",
       "        if (!display || display === 'none') {{\n",
       "            console.log([gd, 'removed!']);\n",
       "            Plotly.purge(gd);\n",
       "            observer.disconnect();\n",
       "        }}\n",
       "}});\n",
       "\n",
       "// Listen for the removal of the full notebook cells\n",
       "var notebookContainer = gd.closest('#notebook-container');\n",
       "if (notebookContainer) {{\n",
       "    x.observe(notebookContainer, {childList: true});\n",
       "}}\n",
       "\n",
       "// Listen for the clearing of the current output cell\n",
       "var outputEl = gd.closest('.output');\n",
       "if (outputEl) {{\n",
       "    x.observe(outputEl, {childList: true});\n",
       "}}\n",
       "\n",
       "                        })\n",
       "                };\n",
       "                });\n",
       "            </script>\n",
       "        </div>"
      ]
     },
     "metadata": {},
     "output_type": "display_data"
    }
   ],
   "source": [
    "GRE_compare.iplot(kind='bar')"
   ]
  },
  {
   "cell_type": "code",
   "execution_count": 238,
   "metadata": {
    "scrolled": false
   },
   "outputs": [
    {
     "data": {
      "application/vnd.plotly.v1+json": {
       "config": {
        "linkText": "Export to plot.ly",
        "plotlyServerURL": "https://plot.ly",
        "responsive": true,
        "showLink": true
       },
       "data": [
        {
         "marker": {
          "color": "rgba(255, 153, 51, 0.6)",
          "line": {
           "color": "rgba(255, 153, 51, 1.0)",
           "width": 1
          }
         },
         "name": "likely",
         "orientation": "v",
         "text": "",
         "type": "bar",
         "uid": "87e59300-d4f1-414d-826f-1f8eddd43d95",
         "x": [
          1,
          2,
          3,
          4,
          5
         ],
         "y": [
          106.66666666666667,
          106.85714285714286,
          107.65346534653466,
          112.13333333333334,
          113.66197183098592
         ]
        },
        {
         "marker": {
          "color": "rgba(55, 128, 191, 0.6)",
          "line": {
           "color": "rgba(55, 128, 191, 1.0)",
           "width": 1
          }
         },
         "name": "not_likely",
         "orientation": "v",
         "text": "",
         "type": "bar",
         "uid": "955317ea-a0d3-4e82-8633-75e180cd61bd",
         "x": [
          1,
          2,
          3,
          4,
          5
         ],
         "y": [
          99.58064516129032,
          102.13186813186813,
          104.09836065573771,
          103.93333333333334,
          105.5
         ]
        }
       ],
       "layout": {
        "legend": {
         "bgcolor": "#F5F6F9",
         "font": {
          "color": "#4D5663"
         }
        },
        "paper_bgcolor": "#F5F6F9",
        "plot_bgcolor": "#F5F6F9",
        "title": {
         "font": {
          "color": "#4D5663"
         }
        },
        "xaxis": {
         "gridcolor": "#E1E5ED",
         "showgrid": true,
         "tickfont": {
          "color": "#4D5663"
         },
         "title": {
          "font": {
           "color": "#4D5663"
          },
          "text": ""
         },
         "zerolinecolor": "#E1E5ED"
        },
        "yaxis": {
         "gridcolor": "#E1E5ED",
         "showgrid": true,
         "tickfont": {
          "color": "#4D5663"
         },
         "title": {
          "font": {
           "color": "#4D5663"
          },
          "text": ""
         },
         "zerolinecolor": "#E1E5ED"
        }
       }
      },
      "text/html": [
       "<div>\n",
       "        \n",
       "        \n",
       "            <div id=\"47c94cd9-cd37-488f-a9b2-3b839223bf74\" class=\"plotly-graph-div\" style=\"height:525px; width:100%;\"></div>\n",
       "            <script type=\"text/javascript\">\n",
       "                require([\"plotly\"], function(Plotly) {\n",
       "                    window.PLOTLYENV=window.PLOTLYENV || {};\n",
       "                    window.PLOTLYENV.BASE_URL='https://plot.ly';\n",
       "                    \n",
       "                if (document.getElementById(\"47c94cd9-cd37-488f-a9b2-3b839223bf74\")) {\n",
       "                    Plotly.newPlot(\n",
       "                        '47c94cd9-cd37-488f-a9b2-3b839223bf74',\n",
       "                        [{\"marker\": {\"color\": \"rgba(255, 153, 51, 0.6)\", \"line\": {\"color\": \"rgba(255, 153, 51, 1.0)\", \"width\": 1}}, \"name\": \"likely\", \"orientation\": \"v\", \"text\": \"\", \"type\": \"bar\", \"uid\": \"559c7184-6667-44ff-b219-10b3cae318bd\", \"x\": [1, 2, 3, 4, 5], \"y\": [106.66666666666667, 106.85714285714286, 107.65346534653466, 112.13333333333334, 113.66197183098592]}, {\"marker\": {\"color\": \"rgba(55, 128, 191, 0.6)\", \"line\": {\"color\": \"rgba(55, 128, 191, 1.0)\", \"width\": 1}}, \"name\": \"not_likely\", \"orientation\": \"v\", \"text\": \"\", \"type\": \"bar\", \"uid\": \"5b442d24-98a7-4250-96fe-ef45111f7d8c\", \"x\": [1, 2, 3, 4, 5], \"y\": [99.58064516129032, 102.13186813186813, 104.09836065573771, 103.93333333333334, 105.5]}],\n",
       "                        {\"legend\": {\"bgcolor\": \"#F5F6F9\", \"font\": {\"color\": \"#4D5663\"}}, \"paper_bgcolor\": \"#F5F6F9\", \"plot_bgcolor\": \"#F5F6F9\", \"title\": {\"font\": {\"color\": \"#4D5663\"}}, \"xaxis\": {\"gridcolor\": \"#E1E5ED\", \"showgrid\": true, \"tickfont\": {\"color\": \"#4D5663\"}, \"title\": {\"font\": {\"color\": \"#4D5663\"}, \"text\": \"\"}, \"zerolinecolor\": \"#E1E5ED\"}, \"yaxis\": {\"gridcolor\": \"#E1E5ED\", \"showgrid\": true, \"tickfont\": {\"color\": \"#4D5663\"}, \"title\": {\"font\": {\"color\": \"#4D5663\"}, \"text\": \"\"}, \"zerolinecolor\": \"#E1E5ED\"}},\n",
       "                        {\"showLink\": true, \"plotlyServerURL\": \"https://plot.ly\", \"linkText\": \"Export to plot.ly\", \"responsive\": true}\n",
       "                    ).then(function(){\n",
       "                            \n",
       "var gd = document.getElementById('47c94cd9-cd37-488f-a9b2-3b839223bf74');\n",
       "var x = new MutationObserver(function (mutations, observer) {{\n",
       "        var display = window.getComputedStyle(gd).display;\n",
       "        if (!display || display === 'none') {{\n",
       "            console.log([gd, 'removed!']);\n",
       "            Plotly.purge(gd);\n",
       "            observer.disconnect();\n",
       "        }}\n",
       "}});\n",
       "\n",
       "// Listen for the removal of the full notebook cells\n",
       "var notebookContainer = gd.closest('#notebook-container');\n",
       "if (notebookContainer) {{\n",
       "    x.observe(notebookContainer, {childList: true});\n",
       "}}\n",
       "\n",
       "// Listen for the clearing of the current output cell\n",
       "var outputEl = gd.closest('.output');\n",
       "if (outputEl) {{\n",
       "    x.observe(outputEl, {childList: true});\n",
       "}}\n",
       "\n",
       "                        })\n",
       "                };\n",
       "                });\n",
       "            </script>\n",
       "        </div>"
      ]
     },
     "metadata": {},
     "output_type": "display_data"
    }
   ],
   "source": [
    "TOEFL_compare.iplot(kind='bar')"
   ]
  },
  {
   "cell_type": "code",
   "execution_count": 236,
   "metadata": {},
   "outputs": [
    {
     "data": {
      "application/vnd.plotly.v1+json": {
       "config": {
        "linkText": "Export to plot.ly",
        "plotlyServerURL": "https://plot.ly",
        "responsive": true,
        "showLink": true
       },
       "data": [
        {
         "marker": {
          "color": "rgba(255, 153, 51, 0.6)",
          "line": {
           "color": "rgba(255, 153, 51, 1.0)",
           "width": 1
          }
         },
         "name": "SOP",
         "orientation": "v",
         "text": "",
         "type": "bar",
         "uid": "6843aed5-867a-449d-a3f9-528414eacb5c",
         "x": [
          1,
          2,
          3,
          4,
          5
         ],
         "y": [
          2.5,
          2.8285714285714287,
          3.376237623762376,
          4.188888888888889,
          4.492957746478873
         ]
        },
        {
         "marker": {
          "color": "rgba(55, 128, 191, 0.6)",
          "line": {
           "color": "rgba(55, 128, 191, 1.0)",
           "width": 1
          }
         },
         "name": "LOR",
         "orientation": "v",
         "text": "",
         "type": "bar",
         "uid": "e8318e66-6f87-43f7-bcf8-856aeb6e1a79",
         "x": [
          1,
          2,
          3,
          4,
          5
         ],
         "y": [
          3.1666666666666665,
          3.1142857142857143,
          3.5792079207920793,
          4.083333333333333,
          4.429577464788732
         ]
        },
        {
         "marker": {
          "color": "rgba(50, 171, 96, 0.6)",
          "line": {
           "color": "rgba(50, 171, 96, 1.0)",
           "width": 1
          }
         },
         "name": "CGPA",
         "orientation": "v",
         "text": "",
         "type": "bar",
         "uid": "a6ae8f17-3063-4f61-a648-adc9bc20c466",
         "x": [
          1,
          2,
          3,
          4,
          5
         ],
         "y": [
          8.736666666666666,
          8.504571428571424,
          8.673069306930694,
          9.065,
          9.298309859154926
         ]
        },
        {
         "marker": {
          "color": "rgba(128, 0, 128, 0.6)",
          "line": {
           "color": "rgba(128, 0, 128, 1.0)",
           "width": 1
          }
         },
         "name": "Research",
         "orientation": "v",
         "text": "",
         "type": "bar",
         "uid": "ac602dce-85fa-4fa3-9f86-40fedc33dcb6",
         "x": [
          1,
          2,
          3,
          4,
          5
         ],
         "y": [
          0.6666666666666666,
          0.4857142857142857,
          0.6534653465346535,
          0.8444444444444444,
          0.9014084507042254
         ]
        }
       ],
       "layout": {
        "legend": {
         "bgcolor": "#F5F6F9",
         "font": {
          "color": "#4D5663"
         }
        },
        "paper_bgcolor": "#F5F6F9",
        "plot_bgcolor": "#F5F6F9",
        "title": {
         "font": {
          "color": "#4D5663"
         }
        },
        "xaxis": {
         "gridcolor": "#E1E5ED",
         "showgrid": true,
         "tickfont": {
          "color": "#4D5663"
         },
         "title": {
          "font": {
           "color": "#4D5663"
          },
          "text": ""
         },
         "zerolinecolor": "#E1E5ED"
        },
        "yaxis": {
         "gridcolor": "#E1E5ED",
         "showgrid": true,
         "tickfont": {
          "color": "#4D5663"
         },
         "title": {
          "font": {
           "color": "#4D5663"
          },
          "text": ""
         },
         "zerolinecolor": "#E1E5ED"
        }
       }
      },
      "text/html": [
       "<div>\n",
       "        \n",
       "        \n",
       "            <div id=\"64db12d5-0182-47be-9378-bad944a1a739\" class=\"plotly-graph-div\" style=\"height:525px; width:100%;\"></div>\n",
       "            <script type=\"text/javascript\">\n",
       "                require([\"plotly\"], function(Plotly) {\n",
       "                    window.PLOTLYENV=window.PLOTLYENV || {};\n",
       "                    window.PLOTLYENV.BASE_URL='https://plot.ly';\n",
       "                    \n",
       "                if (document.getElementById(\"64db12d5-0182-47be-9378-bad944a1a739\")) {\n",
       "                    Plotly.newPlot(\n",
       "                        '64db12d5-0182-47be-9378-bad944a1a739',\n",
       "                        [{\"marker\": {\"color\": \"rgba(255, 153, 51, 0.6)\", \"line\": {\"color\": \"rgba(255, 153, 51, 1.0)\", \"width\": 1}}, \"name\": \"SOP\", \"orientation\": \"v\", \"text\": \"\", \"type\": \"bar\", \"uid\": \"aa69ca0c-5277-406d-96ef-a2b211ed4939\", \"x\": [1, 2, 3, 4, 5], \"y\": [2.5, 2.8285714285714287, 3.376237623762376, 4.188888888888889, 4.492957746478873]}, {\"marker\": {\"color\": \"rgba(55, 128, 191, 0.6)\", \"line\": {\"color\": \"rgba(55, 128, 191, 1.0)\", \"width\": 1}}, \"name\": \"LOR\", \"orientation\": \"v\", \"text\": \"\", \"type\": \"bar\", \"uid\": \"568ab09d-5062-4616-824c-f5c5ae878756\", \"x\": [1, 2, 3, 4, 5], \"y\": [3.1666666666666665, 3.1142857142857143, 3.5792079207920793, 4.083333333333333, 4.429577464788732]}, {\"marker\": {\"color\": \"rgba(50, 171, 96, 0.6)\", \"line\": {\"color\": \"rgba(50, 171, 96, 1.0)\", \"width\": 1}}, \"name\": \"CGPA\", \"orientation\": \"v\", \"text\": \"\", \"type\": \"bar\", \"uid\": \"a5ad9f90-4afe-4cd9-8e76-4cb4cfe69e55\", \"x\": [1, 2, 3, 4, 5], \"y\": [8.736666666666666, 8.504571428571424, 8.673069306930694, 9.065, 9.298309859154926]}, {\"marker\": {\"color\": \"rgba(128, 0, 128, 0.6)\", \"line\": {\"color\": \"rgba(128, 0, 128, 1.0)\", \"width\": 1}}, \"name\": \"Research\", \"orientation\": \"v\", \"text\": \"\", \"type\": \"bar\", \"uid\": \"4e0f02f5-e5b6-4d1e-a089-d0ae9044b1b1\", \"x\": [1, 2, 3, 4, 5], \"y\": [0.6666666666666666, 0.4857142857142857, 0.6534653465346535, 0.8444444444444444, 0.9014084507042254]}],\n",
       "                        {\"legend\": {\"bgcolor\": \"#F5F6F9\", \"font\": {\"color\": \"#4D5663\"}}, \"paper_bgcolor\": \"#F5F6F9\", \"plot_bgcolor\": \"#F5F6F9\", \"title\": {\"font\": {\"color\": \"#4D5663\"}}, \"xaxis\": {\"gridcolor\": \"#E1E5ED\", \"showgrid\": true, \"tickfont\": {\"color\": \"#4D5663\"}, \"title\": {\"font\": {\"color\": \"#4D5663\"}, \"text\": \"\"}, \"zerolinecolor\": \"#E1E5ED\"}, \"yaxis\": {\"gridcolor\": \"#E1E5ED\", \"showgrid\": true, \"tickfont\": {\"color\": \"#4D5663\"}, \"title\": {\"font\": {\"color\": \"#4D5663\"}, \"text\": \"\"}, \"zerolinecolor\": \"#E1E5ED\"}},\n",
       "                        {\"showLink\": true, \"plotlyServerURL\": \"https://plot.ly\", \"linkText\": \"Export to plot.ly\", \"responsive\": true}\n",
       "                    ).then(function(){\n",
       "                            \n",
       "var gd = document.getElementById('64db12d5-0182-47be-9378-bad944a1a739');\n",
       "var x = new MutationObserver(function (mutations, observer) {{\n",
       "        var display = window.getComputedStyle(gd).display;\n",
       "        if (!display || display === 'none') {{\n",
       "            console.log([gd, 'removed!']);\n",
       "            Plotly.purge(gd);\n",
       "            observer.disconnect();\n",
       "        }}\n",
       "}});\n",
       "\n",
       "// Listen for the removal of the full notebook cells\n",
       "var notebookContainer = gd.closest('#notebook-container');\n",
       "if (notebookContainer) {{\n",
       "    x.observe(notebookContainer, {childList: true});\n",
       "}}\n",
       "\n",
       "// Listen for the clearing of the current output cell\n",
       "var outputEl = gd.closest('.output');\n",
       "if (outputEl) {{\n",
       "    x.observe(outputEl, {childList: true});\n",
       "}}\n",
       "\n",
       "                        })\n",
       "                };\n",
       "                });\n",
       "            </script>\n",
       "        </div>"
      ]
     },
     "metadata": {},
     "output_type": "display_data"
    }
   ],
   "source": [
    "likely.drop(['GRE Score','TOEFL Score'],axis=1).iplot(kind='bar')"
   ]
  },
  {
   "cell_type": "code",
   "execution_count": 248,
   "metadata": {},
   "outputs": [],
   "source": [
    "ga_df['likeness'] = ga_df['Chance of Admit'].apply(lambda chance: 1 if chance>0.7 else 0)"
   ]
  },
  {
   "cell_type": "code",
   "execution_count": 251,
   "metadata": {
    "scrolled": false
   },
   "outputs": [
    {
     "data": {
      "text/plain": [
       "<seaborn.axisgrid.PairGrid at 0x1c19e55f98>"
      ]
     },
     "execution_count": 251,
     "metadata": {},
     "output_type": "execute_result"
    },
    {
     "data": {
      "image/png": "[encoded data removed]",
      "text/plain": [
       "<Figure size 1128.62x1080 with 42 Axes>"
      ]
     },
     "metadata": {
      "needs_background": "light"
     },
     "output_type": "display_data"
    }
   ],
   "source": [
    "sns.pairplot(ga_df,vars=columns,hue='likeness')"
   ]
  },
  {
   "cell_type": "code",
   "execution_count": 254,
   "metadata": {},
   "outputs": [],
   "source": [
    "#sns.distplot(ga_df['GRE Score'])"
   ]
  },
  {
   "cell_type": "code",
   "execution_count": 255,
   "metadata": {},
   "outputs": [],
   "source": [
    "#ga_df['Research'].value_counts().iplot(kind='bar')"
   ]
  },
  {
   "cell_type": "markdown",
   "metadata": {},
   "source": [
    "## note about the data\n",
    "I created a new categorical column 'likeness'; 1 if 'chance of admit' >=70%, 0 if not. We can play with this threshold variable later."
   ]
  },
  {
   "cell_type": "code",
   "execution_count": 3,
   "metadata": {},
   "outputs": [],
   "source": [
    "#Test Train Split\n",
    "from sklearn.model_selection import train_test_split"
   ]
  },
  {
   "cell_type": "code",
   "execution_count": null,
   "metadata": {},
   "outputs": [],
   "source": []
  }
 ],
 "metadata": {
  "kernelspec": {
   "display_name": "Python 3",
   "language": "python",
   "name": "python3"
  },
  "language_info": {
   "codemirror_mode": {
    "name": "ipython",
    "version": 3
   },
   "file_extension": ".py",
   "mimetype": "text/x-python",
   "name": "python",
   "nbconvert_exporter": "python",
   "pygments_lexer": "ipython3",
   "version": "3.5.6"
  }
 },
 "nbformat": 4,
 "nbformat_minor": 2
}
